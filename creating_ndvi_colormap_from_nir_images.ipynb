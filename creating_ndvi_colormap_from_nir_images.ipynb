{
 "cells": [
  {
   "cell_type": "code",
   "execution_count": null,
   "id": "15883240-b503-4974-b016-7808b45a2dd8",
   "metadata": {},
   "outputs": [],
   "source": [
    "import rasterio\n",
    "import numpy\n",
    "import matplotlib.pyplot as plt\n",
    "import os\n",
    "import pandas as pd\n",
    "from rasterio.plot import show\n",
    "import matplotlib.colors as colors\n",
    "from PIL import Image\n",
    "from matplotlib import cm\n",
    "import matplotlib.cm as cm\n",
    "from sklearn import preprocessing"
   ]
  },
  {
   "cell_type": "code",
   "execution_count": null,
   "id": "7bacaf20-eb5b-4269-9cc2-1a1be2dd1cf6",
   "metadata": {},
   "outputs": [],
   "source": [
    "src = rasterio.open('ndvi.tiff')"
   ]
  },
  {
   "cell_type": "code",
   "execution_count": null,
   "id": "f13778be-042e-478c-83e8-67335509c520",
   "metadata": {},
   "outputs": [],
   "source": [
    "band_red = src.read(3)\n",
    "band_nir = src.read(1)"
   ]
  },
  {
   "cell_type": "code",
   "execution_count": null,
   "id": "9f478b2c-33c0-4679-81a3-54cc23020974",
   "metadata": {},
   "outputs": [],
   "source": [
    "numpy.seterr(divide='ignore', invalid='ignore')\n",
    "\n",
    "nir = src.read(1)\n",
    "red = src.read(3)\n",
    "\n",
    "ndvi = (nir.astype(float) - red.astype(float)) / (nir.astype(float) + red.astype(float))"
   ]
  },
  {
   "cell_type": "code",
   "execution_count": null,
   "id": "7bb2b4a4-d0b2-49e5-97fd-b608a551a7e1",
   "metadata": {},
   "outputs": [],
   "source": [
    "ndvi.shape"
   ]
  },
  {
   "cell_type": "code",
   "execution_count": null,
   "id": "4b6be43b-41ae-48dc-9172-c83d9523d982",
   "metadata": {},
   "outputs": [],
   "source": [
    "temp_array = ndvi.flatten()"
   ]
  },
  {
   "cell_type": "code",
   "execution_count": null,
   "id": "45f3a775-5dc0-4624-ab70-2fde6efc4143",
   "metadata": {},
   "outputs": [],
   "source": [
    "temp_array = temp_array[numpy.logical_not(numpy.isnan(temp_array))]"
   ]
  },
  {
   "cell_type": "code",
   "execution_count": null,
   "id": "d3764e0f-661c-41d1-bce4-12ef8adbf3e8",
   "metadata": {},
   "outputs": [],
   "source": [
    "normalized_arr = preprocessing.minmax_scale(temp_array, feature_range=(0, 1), axis=0, copy=True)\n",
    "new_array1= list(normalized_arr)\n",
    "dead_pixels = 12000000-len(new_array1)\n",
    "for i in range(dead_pixels):\n",
    "    new_array1.append(0)\n",
    "normalized_arr = numpy.array(new_array1)"
   ]
  },
  {
   "cell_type": "code",
   "execution_count": null,
   "id": "7278be2d-4b54-434a-917a-f01f1ffbb4af",
   "metadata": {},
   "outputs": [],
   "source": [
    "yeni_ndvi=normalized_arr.reshape(3000, 4000)"
   ]
  },
  {
   "cell_type": "code",
   "execution_count": null,
   "id": "58b84b74-89ba-4df2-ae8e-9fcd7b06be79",
   "metadata": {},
   "outputs": [],
   "source": [
    "print(numpy.nanmin(yeni_ndvi))\n",
    "print(numpy.nanmax(yeni_ndvi))"
   ]
  },
  {
   "cell_type": "code",
   "execution_count": null,
   "id": "0d81dd90-28a0-4ae8-8f54-ec1a9fc00ed7",
   "metadata": {},
   "outputs": [],
   "source": [
    "from matplotlib import colors\n",
    "\n",
    "\n",
    "class MidpointNormalize(colors.Normalize):\n",
    "   \n",
    "    def __init__(self, vmin=None, vmax=None, midpoint=None, clip=False):\n",
    "        self.midpoint = midpoint\n",
    "        colors.Normalize.__init__(self, vmin, vmax, clip)\n",
    "\n",
    "    def __call__(self, value, clip=None):\n",
    "       \n",
    "        x, y = [self.vmin, self.midpoint, self.vmax], [0, 0.5, 1]\n",
    "        return numpy.ma.masked_array(numpy.interp(value, x, y), numpy.isnan(value))"
   ]
  },
  {
   "cell_type": "code",
   "execution_count": null,
   "id": "6dad3ad6-aed3-4e5e-9190-75d5fd2ca342",
   "metadata": {},
   "outputs": [],
   "source": [
    "min=numpy.nanmin(yeni_ndvi)\n",
    "max=numpy.nanmax(yeni_ndvi)\n",
    "\n",
    "\n",
    "mid=0.3\n",
    "\n",
    "\n",
    "cmapp = cm.get_cmap('RdYlGn', 20) \n",
    "norm = MidpointNormalize(vmin=0, vmax=1, midpoint=mid)\n",
    "fig = plt.figure(figsize=(10,10))\n",
    "\n",
    "\n",
    "ax = fig.add_subplot(111)\n",
    "\n",
    "\n",
    "cbar_plot = ax.imshow(ndvi, cmap=cmapp, vmin=0, vmax=1, norm=norm)\n",
    "\n",
    "\n",
    "\n",
    "ax.axis('off')\n",
    "\n",
    "\n",
    "ax.set_title('Normalized Difference Vegetation Index', fontsize=17, fontweight='bold')\n",
    "\n",
    "\n",
    "cbar = fig.colorbar(cbar_plot, orientation='horizontal', shrink=0.65)\n",
    "\n",
    "\n",
    "fig.savefig(\"25.tiff\", dpi=200, bbox_inches='tight', pad_inches=0.7)\n",
    "\n",
    "\n",
    "plt.show()"
   ]
  }
 ],
 "metadata": {
  "kernelspec": {
   "display_name": "Python 3",
   "language": "python",
   "name": "python3"
  },
  "language_info": {
   "codemirror_mode": {
    "name": "ipython",
    "version": 3
   },
   "file_extension": ".py",
   "mimetype": "text/x-python",
   "name": "python",
   "nbconvert_exporter": "python",
   "pygments_lexer": "ipython3",
   "version": "3.8.0"
  }
 },
 "nbformat": 4,
 "nbformat_minor": 5
}
